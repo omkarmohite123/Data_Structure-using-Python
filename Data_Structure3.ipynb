{
  "nbformat": 4,
  "nbformat_minor": 0,
  "metadata": {
    "colab": {
      "provenance": [],
      "authorship_tag": "ABX9TyNhClmRTgQZMHl27kqbD6bd",
      "include_colab_link": true
    },
    "kernelspec": {
      "name": "python3",
      "display_name": "Python 3"
    },
    "language_info": {
      "name": "python"
    }
  },
  "cells": [
    {
      "cell_type": "markdown",
      "metadata": {
        "id": "view-in-github",
        "colab_type": "text"
      },
      "source": [
        "<a href=\"https://colab.research.google.com/github/omkarmohite123/Data_Structure-using-Python/blob/main/Data_Structure3.ipynb\" target=\"_parent\"><img src=\"https://colab.research.google.com/assets/colab-badge.svg\" alt=\"Open In Colab\"/></a>"
      ]
    },
    {
      "cell_type": "code",
      "source": [
        "\"\"\"\n",
        "Given a string S of length N, find if it forms a Palindrome after deleting 1 character.\n",
        "Input Size : 1 <= N <= 100000\n",
        "Sample Testcases :\n",
        "IbNPUT\n",
        "axba\n",
        "OUTPUT\n",
        "NO\n",
        "\"\"\""
      ],
      "metadata": {
        "id": "OfNyuPlE4JhB"
      },
      "execution_count": null,
      "outputs": []
    },
    {
      "cell_type": "code",
      "source": [
        "\n",
        "a=list(input())\n",
        "b=set(a)\n",
        "s=[]\n",
        "for i in range(len(a)):\n",
        "     if a.count(a[i])==1:\n",
        "       s.append(a[i])\n",
        "if len(s)==1 or len(b)==1:\n",
        "  print(\"YES\")\n",
        "else:\n",
        "  print(\"NO\")"
      ],
      "metadata": {
        "colab": {
          "base_uri": "https://localhost:8080/"
        },
        "id": "nMg1aNSK4Jmw",
        "outputId": "6dd38b22-2125-47da-c384-54656c8174ce"
      },
      "execution_count": 4,
      "outputs": [
        {
          "output_type": "stream",
          "name": "stdout",
          "text": [
            "axba\n",
            "NO\n"
          ]
        }
      ]
    }
  ]
}