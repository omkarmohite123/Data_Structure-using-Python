{
  "nbformat": 4,
  "nbformat_minor": 0,
  "metadata": {
    "colab": {
      "provenance": [],
      "authorship_tag": "ABX9TyN4+SEgVBF5ahlISmF6CcoM",
      "include_colab_link": true
    },
    "kernelspec": {
      "name": "python3",
      "display_name": "Python 3"
    },
    "language_info": {
      "name": "python"
    }
  },
  "cells": [
    {
      "cell_type": "markdown",
      "metadata": {
        "id": "view-in-github",
        "colab_type": "text"
      },
      "source": [
        "<a href=\"https://colab.research.google.com/github/omkarmohite123/Data_Structure-using-Python/blob/main/string30.ipynb\" target=\"_parent\"><img src=\"https://colab.research.google.com/assets/colab-badge.svg\" alt=\"Open In Colab\"/></a>"
      ]
    },
    {
      "cell_type": "code",
      "source": [
        "\"\"\"\n",
        "Jack is fond of numbers. He has given an array.He has to find the maximum length of sub array such that sum of elements in that sub array gives output 0.He is in little trouble, help him in finding solution\n",
        "\n",
        "Input Description:\n",
        "You are given an integer ‘n’ denoting the number of elements in array.Next line contains n space separated integers\n",
        "\n",
        "Output Description:\n",
        "Print the max length of that array with sum 0 and print -1 if not possible\n",
        "\n",
        "Sample Input :\n",
        "6\n",
        "-4 3 1 0 0 6\n",
        "Sample Output :\n",
        "5\n",
        "\n",
        "\"\"\""
      ],
      "metadata": {
        "id": "MYzCcZ1DUY4j"
      },
      "execution_count": null,
      "outputs": []
    },
    {
      "cell_type": "code",
      "source": [
        "# Python program for the above approach\n",
        "\n",
        "# returns the length\n",
        "def maxLen(arr):\n",
        "\t\n",
        "\t# initialize result\n",
        "\tmax_len = 0\n",
        "\n",
        "\t# pick a starting point\n",
        "\tfor i in range(len(arr)):\n",
        "\t\t\n",
        "\t\t# initialize sum for every starting point\n",
        "\t\tcurr_sum = 0\n",
        "\t\t\n",
        "\t\t# try all subarrays starting with 'i'\n",
        "\t\tfor j in range(i, len(arr)):\n",
        "\t\t\n",
        "\t\t\tcurr_sum += arr[j]\n",
        "\n",
        "\t\t\t# if curr_sum becomes 0, then update max_len\n",
        "\t\t\tif curr_sum == 0:\n",
        "\t\t\t\tmax_len = max(max_len, j-i + 1)\n",
        "\n",
        "\treturn max_len\n",
        "\n",
        "# Driver's code\n",
        "if __name__ == \"__main__\":\n",
        "# test array\n",
        "  s=int(input())\n",
        "arr=list(map(int,input().split()))\n",
        "\t# Function call\n",
        "print (maxLen(arr))\n"
      ],
      "metadata": {
        "colab": {
          "base_uri": "https://localhost:8080/"
        },
        "id": "vNjSm5yHUZCb",
        "outputId": "1bed1c95-db18-44a7-b4fd-e80a952b8ea9"
      },
      "execution_count": 11,
      "outputs": [
        {
          "output_type": "stream",
          "name": "stdout",
          "text": [
            "6\n",
            "-4 3 1 0 0 6\n",
            "5\n"
          ]
        }
      ]
    }
  ]
}