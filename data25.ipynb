{
  "nbformat": 4,
  "nbformat_minor": 0,
  "metadata": {
    "colab": {
      "provenance": [],
      "authorship_tag": "ABX9TyNpejluArGhSjR6Ygg8TWPU",
      "include_colab_link": true
    },
    "kernelspec": {
      "name": "python3",
      "display_name": "Python 3"
    },
    "language_info": {
      "name": "python"
    }
  },
  "cells": [
    {
      "cell_type": "markdown",
      "metadata": {
        "id": "view-in-github",
        "colab_type": "text"
      },
      "source": [
        "<a href=\"https://colab.research.google.com/github/omkarmohite123/Data_Structure-using-Python/blob/main/data25.ipynb\" target=\"_parent\"><img src=\"https://colab.research.google.com/assets/colab-badge.svg\" alt=\"Open In Colab\"/></a>"
      ]
    },
    {
      "cell_type": "code",
      "source": [
        "\"\"\"\n",
        "Write a code to get an integer N and print the sum of  values from 1 to N.\n",
        "\n",
        "Input Description:\n",
        "A single line contains an integer N.\n",
        "\n",
        "Output Description:\n",
        "Print the sum of values from 1 to N.\n",
        "\n",
        "Sample Input :\n",
        "10\n",
        "Sample Output :\n",
        "55\n",
        "\n",
        "\"\"\""
      ],
      "metadata": {
        "id": "hTUx8bcTrzob"
      },
      "execution_count": null,
      "outputs": []
    },
    {
      "cell_type": "code",
      "source": [
        "N=int(input())\n",
        "a=0\n",
        "for i in range(1,N+1):\n",
        "    a=a+i\n",
        "print(a)"
      ],
      "metadata": {
        "colab": {
          "base_uri": "https://localhost:8080/"
        },
        "id": "hik2VnELr2nc",
        "outputId": "6a2dcd7f-0c6a-44cc-a2d6-d6cf1497a6c9"
      },
      "execution_count": 5,
      "outputs": [
        {
          "output_type": "stream",
          "name": "stdout",
          "text": [
            "10\n",
            "55\n"
          ]
        }
      ]
    }
  ]
}