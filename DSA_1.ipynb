{
  "nbformat": 4,
  "nbformat_minor": 0,
  "metadata": {
    "colab": {
      "provenance": [],
      "authorship_tag": "ABX9TyMIZ5KsMPOj1PVWC0cBm4Ws",
      "include_colab_link": true
    },
    "kernelspec": {
      "name": "python3",
      "display_name": "Python 3"
    },
    "language_info": {
      "name": "python"
    }
  },
  "cells": [
    {
      "cell_type": "markdown",
      "metadata": {
        "id": "view-in-github",
        "colab_type": "text"
      },
      "source": [
        "<a href=\"https://colab.research.google.com/github/omkarmohite123/Data_Structure-using-Python/blob/main/DSA_1.ipynb\" target=\"_parent\"><img src=\"https://colab.research.google.com/assets/colab-badge.svg\" alt=\"Open In Colab\"/></a>"
      ]
    },
    {
      "cell_type": "code",
      "source": [
        "\"\"\"\n",
        "Python program to Search an Element in a Circular Linked List\n",
        "Input: CList = 6->5->4->3->2, find = 3\n",
        "Output: Element is present\n",
        " \n",
        "Input: CList = 6->5->4->3->2, find = 1\n",
        "Output: Element is not present\n",
        "\n",
        "\"\"\""
      ],
      "metadata": {
        "id": "BKLKqnLbI00b"
      },
      "execution_count": null,
      "outputs": []
    },
    {
      "cell_type": "code",
      "source": [
        "class Node:\n",
        "  def __init__ (self,data):\n",
        "    self.data=data\n",
        "    self.next=None\n",
        "class cir:\n",
        "  def __init__(self):\n",
        "    self.head=Node(None)\n",
        "    self.tail = Node(None) \n",
        "    self.head.next = self.tail    \n",
        "    self.tail.next = self.head \n",
        "  def add(self,data):    \n",
        "    newNode = Node(data)\n",
        "    if self.head.data is None:\n",
        "       self.head = newNode\n",
        "       self.tail = newNode\n",
        "       newNode.next = self.head\n",
        "    else:\n",
        "      self.tail.next=newNode\n",
        "      self.tail=newNode\n",
        "      self.tail.next=self.head\n",
        "  def find(self,element):\n",
        "     current=self.head\n",
        "     i=1\n",
        "     f=0\n",
        "     if self.head==None:\n",
        "       print(\"Empty list\")\n",
        "     else:\n",
        "       while(True):\n",
        "         if (current.data==element):\n",
        "           f+=1\n",
        "           break\n",
        "         i=i+1\n",
        "         current=current.next\n",
        "         i=i+1\n",
        "         if current==self.head:\n",
        "           break\n",
        "       if f>0:\n",
        "         print(\"Element is Present\")\n",
        "       else:\n",
        "         print(\"Element is not present\")\n",
        "if __name__==\"__main__\":\n",
        "  cir=cir()\n",
        "  cir.add(2)\n",
        "  cir.add(3)\n",
        "  cir.add(5)\n",
        "  cir.add(7)\n",
        "  \n",
        "\n"
      ],
      "metadata": {
        "id": "tZdHDwL8I07a"
      },
      "execution_count": 3,
      "outputs": []
    },
    {
      "cell_type": "code",
      "source": [
        "cir.find(5)"
      ],
      "metadata": {
        "colab": {
          "base_uri": "https://localhost:8080/"
        },
        "id": "AgX9PLEgUC0E",
        "outputId": "e7864da2-5d76-4f39-ebf7-1efc8a28afbf"
      },
      "execution_count": 4,
      "outputs": [
        {
          "output_type": "stream",
          "name": "stdout",
          "text": [
            "Element is Present\n"
          ]
        }
      ]
    },
    {
      "cell_type": "code",
      "source": [
        "cir.find(6)"
      ],
      "metadata": {
        "colab": {
          "base_uri": "https://localhost:8080/"
        },
        "id": "D7CTDjFRUGpy",
        "outputId": "6575a76a-441e-48cb-eae8-8f8ec82424ac"
      },
      "execution_count": 5,
      "outputs": [
        {
          "output_type": "stream",
          "name": "stdout",
          "text": [
            "Element is not present\n"
          ]
        }
      ]
    },
    {
      "cell_type": "code",
      "source": [],
      "metadata": {
        "id": "F0bo9-m8UURu"
      },
      "execution_count": null,
      "outputs": []
    }
  ]
}