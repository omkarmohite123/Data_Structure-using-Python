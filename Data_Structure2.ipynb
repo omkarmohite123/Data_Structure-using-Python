{
  "nbformat": 4,
  "nbformat_minor": 0,
  "metadata": {
    "colab": {
      "provenance": [],
      "authorship_tag": "ABX9TyP5oYkhTbA+7htFhq2LhtUj",
      "include_colab_link": true
    },
    "kernelspec": {
      "name": "python3",
      "display_name": "Python 3"
    },
    "language_info": {
      "name": "python"
    }
  },
  "cells": [
    {
      "cell_type": "markdown",
      "metadata": {
        "id": "view-in-github",
        "colab_type": "text"
      },
      "source": [
        "<a href=\"https://colab.research.google.com/github/omkarmohite123/Data_Structure-using-Python/blob/main/Data_Structure2.ipynb\" target=\"_parent\"><img src=\"https://colab.research.google.com/assets/colab-badge.svg\" alt=\"Open In Colab\"/></a>"
      ]
    },
    {
      "cell_type": "code",
      "source": [
        "\"\"\"\n",
        "Given a number N followed by a list of N numbers. Write a program to reverse the list and print the list.\n",
        "Input Size : 1 <= N <= 10000\n",
        "Sample Testcases :\n",
        "INPUT\n",
        "7\n",
        "1 2 3 4 5 6 7\n",
        "OUTPUT\n",
        "7->6->5->4->3->2->1\n",
        "\"\"\""
      ],
      "metadata": {
        "id": "h8Sp3OnG3cFv"
      },
      "execution_count": null,
      "outputs": []
    },
    {
      "cell_type": "code",
      "source": [
        "a=int(input())\n",
        "b=list(map(str,input().split()))\n",
        "l=set(b)\n",
        "g=[]\n",
        "m=\"->\"\n",
        "c=b[::-1]\n",
        "g.append(c[0])\n",
        "for i in c[1:]:\n",
        "  m=m+i\n",
        "  g.append(m)\n",
        "  m=\"->\" \n",
        "f=\"\".join(g)\n",
        "print(f)"
      ],
      "metadata": {
        "colab": {
          "base_uri": "https://localhost:8080/"
        },
        "id": "u11APLFL3cIX",
        "outputId": "33aa2fb7-728c-4fab-8fe1-ec8aa1e6b0b3"
      },
      "execution_count": 2,
      "outputs": [
        {
          "output_type": "stream",
          "name": "stdout",
          "text": [
            "7\n",
            "1 2 3 4 5 6 7\n",
            "7->6->5->4->3->2->1\n"
          ]
        }
      ]
    }
  ]
}