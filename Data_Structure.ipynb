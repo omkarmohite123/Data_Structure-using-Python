{
  "nbformat": 4,
  "nbformat_minor": 0,
  "metadata": {
    "colab": {
      "provenance": [],
      "authorship_tag": "ABX9TyNqUMGch5QCs8jhdaslSZH9",
      "include_colab_link": true
    },
    "kernelspec": {
      "name": "python3",
      "display_name": "Python 3"
    },
    "language_info": {
      "name": "python"
    }
  },
  "cells": [
    {
      "cell_type": "markdown",
      "metadata": {
        "id": "view-in-github",
        "colab_type": "text"
      },
      "source": [
        "<a href=\"https://colab.research.google.com/github/omkarmohite123/Data_Structure-using-Python/blob/main/Data_Structure.ipynb\" target=\"_parent\"><img src=\"https://colab.research.google.com/assets/colab-badge.svg\" alt=\"Open In Colab\"/></a>"
      ]
    },
    {
      "cell_type": "code",
      "source": [
        "\"\"\"\n",
        "Given a number N. There will be N numbers given. Print the smallest number in the given list after each input(Hint use priority queue).\n",
        "Input Size : N <= 100000\n",
        "Sample Testcase :\n",
        "INPUT\n",
        "4\n",
        "3 2 4 1\n",
        "OUTPUT\n",
        "3 2 2 1\n",
        "\"\"\""
      ],
      "metadata": {
        "id": "EGqMoqcr7-3n"
      },
      "execution_count": null,
      "outputs": []
    },
    {
      "cell_type": "code",
      "source": [
        "\n",
        "a=int(input())\n",
        "b=list(map(int,input().split()))\n",
        "q=[]\n",
        "q.append(b[0])\n",
        "for i in range(len(b)-1):\n",
        "  if b[i]<b[i+1]:\n",
        "    q.append(b[i])\n",
        "  else:\n",
        "    q.append(b[i+1])\n",
        "print(*q)"
      ],
      "metadata": {
        "colab": {
          "base_uri": "https://localhost:8080/"
        },
        "id": "eXTVKNr4K2pq",
        "outputId": "5801484a-204f-4bbd-8b15-ea9732b8f493"
      },
      "execution_count": 31,
      "outputs": [
        {
          "output_type": "stream",
          "name": "stdout",
          "text": [
            "4\n",
            "3 2 4 1\n",
            "3 2 2 1\n"
          ]
        }
      ]
    }
  ]
}