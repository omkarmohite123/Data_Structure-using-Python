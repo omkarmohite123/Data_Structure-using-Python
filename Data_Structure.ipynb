{
  "nbformat": 4,
  "nbformat_minor": 0,
  "metadata": {
    "colab": {
      "provenance": [],
      "authorship_tag": "ABX9TyN+bsVht9dHNCrULqHxwVYI",
      "include_colab_link": true
    },
    "kernelspec": {
      "name": "python3",
      "display_name": "Python 3"
    },
    "language_info": {
      "name": "python"
    }
  },
  "cells": [
    {
      "cell_type": "markdown",
      "metadata": {
        "id": "view-in-github",
        "colab_type": "text"
      },
      "source": [
        "<a href=\"https://colab.research.google.com/github/omkarmohite123/Data_Structure-using-Python/blob/main/Data_Structure.ipynb\" target=\"_parent\"><img src=\"https://colab.research.google.com/assets/colab-badge.svg\" alt=\"Open In Colab\"/></a>"
      ]
    },
    {
      "cell_type": "code",
      "source": [
        "\"\"\"\n",
        "Given a string S of length N, find if it forms a Palindrome after deleting 1 character.\n",
        "Input Size : 1 <= N <= 100000\n",
        "Sample Testcases :\n",
        "INPUT\n",
        "abxba\n",
        "OUTPUT\n",
        "YES\n",
        "\"\"\""
      ],
      "metadata": {
        "id": "_eyzIA-HL9dp"
      },
      "execution_count": null,
      "outputs": []
    },
    {
      "cell_type": "code",
      "source": [
        "\n",
        "a=list(input())\n",
        "b=set(a)\n",
        "s=[]\n",
        "for i in range(len(a)):\n",
        "     if a.count(a[i])==1:\n",
        "       s.append(a[i])\n",
        "if len(s)==1 or len(b)==1:\n",
        "  print(\"YES\")\n",
        "else:\n",
        "  print(\"NO\")"
      ],
      "metadata": {
        "colab": {
          "base_uri": "https://localhost:8080/"
        },
        "id": "oWxxf9Q7L9mB",
        "outputId": "803cc319-2e8c-4d3b-b5c4-0592f0bdb538"
      },
      "execution_count": 34,
      "outputs": [
        {
          "output_type": "stream",
          "name": "stdout",
          "text": [
            "abxba\n",
            "YES\n"
          ]
        }
      ]
    }
  ]
}